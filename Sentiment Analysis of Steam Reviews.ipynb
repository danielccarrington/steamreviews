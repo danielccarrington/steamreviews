{
 "cells": [
  {
   "cell_type": "markdown",
   "id": "0327f40c-0d80-4c63-9e81-f57d7d557375",
   "metadata": {},
   "source": [
    "# Sentiment Analysis of Steam Reviews\n",
    "\n",
    "The video game store, [Steam](https://store.steampowered.com/), contains a large amount of user submitted reviews for their various games along with a positive or negative score. In this project, we want to apply machine learning to see if we can predict the score based on the review text. If successful, we could then apply this to areas where we don't know if the text has a positive or negative sentiment. For example, classifying posts on a forum, such as [Reddit](https://www.reddit.com/)."
   ]
  },
  {
   "cell_type": "code",
   "execution_count": 1,
   "id": "f614e473",
   "metadata": {},
   "outputs": [],
   "source": [
    "import datasets\n",
    "import datasets.utils.logging\n",
    "import matplotlib.pyplot as plt\n",
    "import os\n",
    "import numpy as np\n",
    "import pandas as pd\n",
    "import time\n",
    "import torch\n",
    "import torch.nn as nn\n",
    "import torch.optim as optim\n",
    "import torchtext; torchtext.disable_torchtext_deprecation_warning()\n",
    "from torch.utils.data import DataLoader\n",
    "from torchtext.data.utils import get_tokenizer\n",
    "from torchtext.vocab import build_vocab_from_iterator"
   ]
  },
  {
   "cell_type": "markdown",
   "id": "c87705c4-89af-4c02-a1af-014b9cfe81be",
   "metadata": {},
   "source": [
    "## Hyperparameters\n",
    "\n",
    "First we start by setting the hyperparameters, which have all be set via grid search. The first is the number of epochs to train for before stopping. The second is the batch size, which defines how many batches of reviews we will send to the train function. The third is the max tokens, which defines them maxium number of tokens we will send per batch. Finally, the last defines the filter size of the two convolutional layers."
   ]
  },
  {
   "cell_type": "code",
   "execution_count": 2,
   "id": "1c2cf168-a1f1-494e-85fd-c179c5a1e1a4",
   "metadata": {},
   "outputs": [],
   "source": [
    "# Hyperparameters\n",
    "epochs = 12\n",
    "batch_size = 1024\n",
    "max_tokens = 512\n",
    "filter_size = [3, 7]"
   ]
  },
  {
   "cell_type": "markdown",
   "id": "d3f4a50a-40a4-408a-a124-77a05fc4e58d",
   "metadata": {},
   "source": [
    "## Setup\n",
    "\n",
    "Here we set the random number generators to a fixed seed, so we will be able to reproduce our results. We also select either the CPU or GPU to use for training our model. Ideally we use the GPU, which is significantly faster."
   ]
  },
  {
   "cell_type": "code",
   "execution_count": 3,
   "id": "4d366e94-a267-4ba0-8307-7d541d93da11",
   "metadata": {},
   "outputs": [],
   "source": [
    "# Set the random seed for deterministic behaviour\n",
    "seed = 14\n",
    "np.random.seed(seed)\n",
    "torch.manual_seed(seed)\n",
    "torch.cuda.manual_seed(seed)\n",
    "torch.backends.cudnn.deterministic = True"
   ]
  },
  {
   "cell_type": "code",
   "execution_count": 4,
   "id": "1e79a031-e822-438d-bb1b-9235b55b1eb7",
   "metadata": {},
   "outputs": [
    {
     "data": {
      "text/plain": [
       "device(type='cuda')"
      ]
     },
     "execution_count": 4,
     "metadata": {},
     "output_type": "execute_result"
    }
   ],
   "source": [
    "# Select GPU if possible\n",
    "device = torch.device('cuda' if torch.cuda.is_available() else 'cpu')\n",
    "device"
   ]
  },
  {
   "cell_type": "markdown",
   "id": "88ce15e6-d9bf-4fc5-8e74-7bd93eea9731",
   "metadata": {},
   "source": [
    "## Dataset\n",
    "\n",
    "Now, we're going to set up the dataset. The first thing we're going to do is create smaller version of the Steam reviews dataset. For this we're going to randomly sample 10,000 rows out of 6.4 million rows."
   ]
  },
  {
   "cell_type": "code",
   "execution_count": 5,
   "id": "94acf0be-288a-4274-93cf-28fc931bca78",
   "metadata": {},
   "outputs": [],
   "source": [
    "# Define a function to create a partial dataset\n",
    "def create_partial_dataset(nrows=1000, override=True):\n",
    "    \n",
    "    dataset_path = 'data/dataset_' + str(nrows) + '.csv'\n",
    "    if (os.path.exists(dataset_path) and not override):\n",
    "        return dataset_path\n",
    "    \n",
    "    # Load the full dataset\n",
    "    # Location: https://www.kaggle.com/datasets/andrewmvd/steam-reviews\n",
    "    df = pd.read_csv('data/dataset.csv')\n",
    "    print(df.shape)\n",
    "\n",
    "    # Make a partial dataset for exploration composed \n",
    "    # of 50% positive and 50% negative reviews.\n",
    "    df = df.groupby('review_score').sample(n=int(nrows/2), random_state=14).sort_index()\n",
    "\n",
    "    # Export to CSV\n",
    "    df.to_csv(dataset_path)\n",
    "\n",
    "    return dataset_path\n",
    "\n",
    "# Disable dataset progress bars\n",
    "datasets.utils.logging.disable_progress_bar()\n",
    "\n",
    "# Create a partial dataset for exploration\n",
    "dataset_nrows = 10000\n",
    "dataset_path = create_partial_dataset(dataset_nrows, override=False)\n",
    "\n",
    "# Load the Steam reviews dataset\n",
    "full_data = datasets.load_dataset('csv', data_files=dataset_path, split='all')"
   ]
  },
  {
   "cell_type": "markdown",
   "id": "a3c89198-0d12-4b2f-ac6e-fb19a7f9e40c",
   "metadata": {},
   "source": [
    "Next, we're going to apply preprocessing fixes to ensure the data can be processed correctly. All instances with missing review text were removed, all text was changed to lowercase, multiple contiguous spaces were removed, and the negative labels were changed from -1 to 0."
   ]
  },
  {
   "cell_type": "code",
   "execution_count": 6,
   "id": "fbabdcfb-ea7c-44b5-8bab-76b0aefe5480",
   "metadata": {},
   "outputs": [],
   "source": [
    "# Define a function to apply preprocessing fixes to the text\n",
    "def preprocessing_text(row):\n",
    "\n",
    "    # Make the text lower case\n",
    "    # Remove multiple space chars\n",
    "    row['text'] = row['text'].lower()\n",
    "    row['text'] = ' '.join(row['text'].split()).strip()\n",
    "    return row\n",
    "\n",
    "# Define a function to apply preprocessing fixes to the labels\n",
    "def preprocessing_labels(row):\n",
    "\n",
    "    # Alter the -1 (negative) label to be 0\n",
    "    if (row['label'] == -1):\n",
    "        row['label'] = 0\n",
    "    return row\n",
    "\n",
    "# Remove unnecessary columns\n",
    "full_data = full_data.remove_columns(['Unnamed: 0', 'app_id', 'app_name', 'review_votes'])\n",
    "\n",
    "# Rename the columns to be generic\n",
    "full_data = full_data.rename_column('review_text', 'text')\n",
    "full_data = full_data.rename_column('review_score', 'label')\n",
    "\n",
    "# Remove entries that contain no text\n",
    "full_data = full_data.filter(lambda row: row['text'] is not None)\n",
    "\n",
    "# Apply preprocessing fixes to the data\n",
    "full_data = full_data.map(preprocessing_text)\n",
    "full_data = full_data.map(preprocessing_labels)"
   ]
  },
  {
   "cell_type": "markdown",
   "id": "5d94f1ba-2013-4c48-9a08-ec41db3d6da5",
   "metadata": {},
   "source": [
    "Next, we're going to turn the review text, essentially we're going to splt it into words. After that we're going to create mapping of words to integer values and then turn our string tokens into integer tokens (i.e., numericalise them). You can see a few examples below the code block."
   ]
  },
  {
   "cell_type": "code",
   "execution_count": 7,
   "id": "d8abc3e1",
   "metadata": {},
   "outputs": [
    {
     "data": {
      "text/plain": [
       "[514, 10, 49, 106]"
      ]
     },
     "execution_count": 7,
     "metadata": {},
     "output_type": "execute_result"
    }
   ],
   "source": [
    "# Define the function that will split the sentences into tokens\n",
    "def tokenize(row, max_tokens):\n",
    "    tokenizer = get_tokenizer('basic_english')\n",
    "    tokens = tokenizer(row['text'])[:max_tokens]\n",
    "    return {'tokens': tokens}\n",
    "\n",
    "# Split the text into tokens\n",
    "full_data = full_data.map(\n",
    "    tokenize, fn_kwargs={'max_tokens': max_tokens}\n",
    ")\n",
    "\n",
    "# Define a mapping of string tokens to integer values\n",
    "vocab = build_vocab_from_iterator(\n",
    "    full_data['tokens'],\n",
    "    min_freq=5,\n",
    "    specials=['<unk>', '<pad>'],\n",
    ")\n",
    "vocab.set_default_index(vocab['<unk>'])\n",
    "\n",
    "# Store the index of the padding token\n",
    "pad_index = vocab['<pad>']\n",
    "\n",
    "# Define the function that replaces string tokens with integer values\n",
    "def numericalise(row, vocab):\n",
    "    tokens = vocab.lookup_indices(row['tokens'])\n",
    "    return {'tokens': tokens}\n",
    "\n",
    "# Replace the string tokens with integer values\n",
    "full_data = full_data.map(numericalise, fn_kwargs={'vocab': vocab})\n",
    "full_data = full_data.with_format(type='torch', columns=['tokens', 'label'])\n",
    "\n",
    "# Example tokens\n",
    "vocab(['video', 'game', 'good', 'bad'])"
   ]
  },
  {
   "cell_type": "markdown",
   "id": "14ecbc41-5f1b-4c64-985c-1e4be3239843",
   "metadata": {},
   "source": [
    "Here, we're going to define a function that can be used to batch our tokens and labels (i.e., the positive or negative classification)."
   ]
  },
  {
   "cell_type": "code",
   "execution_count": 8,
   "id": "6552956b",
   "metadata": {},
   "outputs": [],
   "source": [
    "# Define the the function for collating and batching the data\n",
    "def collate_fn(pad_index):\n",
    "    def collate_fn(batch):\n",
    "        batch_tokens = [i['tokens'] for i in batch]\n",
    "        batch_tokens = nn.utils.rnn.pad_sequence(\n",
    "            batch_tokens, padding_value=pad_index, batch_first=True\n",
    "        )\n",
    "        batch_label = [i['label'] for i in batch]\n",
    "        batch_label = torch.stack(batch_label)\n",
    "        batch = {'tokens': batch_tokens, 'label': batch_label}\n",
    "        return batch\n",
    "\n",
    "    return collate_fn\n",
    "\n"
   ]
  },
  {
   "cell_type": "markdown",
   "id": "de57a58f-ac76-422d-b585-ac8cdfddb8b2",
   "metadata": {},
   "source": [
    "At this point we're going to finally split our dataset into training, validation, and test datasets. The data is split 60% training, 20% validation, and 20% test, which for 10,000 rows is 6,000 training, 2,000 validation, and 2,000 test. We also create DataLoaders that will be passed to our train and evaluate functions in the CNN's model, which will supply the data in the correct batches. "
   ]
  },
  {
   "cell_type": "code",
   "execution_count": 9,
   "id": "0ff1c7dd-ed94-4a8f-9d49-56382dcfd49a",
   "metadata": {},
   "outputs": [],
   "source": [
    "# Split the dataset into training/validation and test sets\n",
    "full_data = full_data.train_test_split(test_size=0.2)\n",
    "train_valid_data = full_data['train']\n",
    "test_data = full_data['test']\n",
    "\n",
    "# Further split the training set into training and validation sets\n",
    "train_valid_data = train_valid_data.train_test_split(test_size=0.25)\n",
    "train_data = train_valid_data['train']\n",
    "valid_data = train_valid_data['test']\n",
    "\n",
    "# Calculate the number of unique labels\n",
    "unique_labels = len(train_data.unique('label'))\n",
    "\n",
    "# Create the data loaders for training section\n",
    "train_data_loader = DataLoader(train_data, batch_size, collate_fn=collate_fn(pad_index), shuffle=True)\n",
    "valid_data_loader = DataLoader(valid_data, batch_size, collate_fn=collate_fn(pad_index))\n",
    "test_data_loader = DataLoader(test_data, batch_size, collate_fn=collate_fn(pad_index))"
   ]
  },
  {
   "cell_type": "markdown",
   "id": "8a55c15a-8ab2-4fb6-814a-7f55683317be",
   "metadata": {},
   "source": [
    "## Convolutional Neural Network (CNN)\n",
    "\n",
    "Here we define the class for our [convolutional neural network (CNN)](https://en.wikipedia.org/wiki/Convolutional_neural_network) model. CNNs, are type of unidirectional neural network that is composed of layers of neurons connected together via weighted paths. However, unlike fully connected networks, the use of filters means that every neuron in a layer is not connected to every other neuron in the prior layer. Instead it is only dependent on the neurons nearby with the number of neurons depending on the filter size, which substantially reduces the number of parameters.\n",
    "\n",
    "It is composed of 5 primary functions.\n",
    "\n",
    "__\\_\\_init\\_\\___: Defines the shape of the neural network. It is composed of an embedding layer, two convolutional layers, two max pooling layers (directly defined in the forward function), and a fully connected layer.\n",
    "\n",
    "__forward__: Passes the data through the neural network and produce the predicted labels based on the batches of tokens supplied.\n",
    "\n",
    "__train__: Handles the processing of training the model. It loops through the batches of the training data and feeds them into the model where the predicted labels are returned. In each loop, it calculates the loss metrics, which in our case is [cross-entropy](https://en.wikipedia.org/wiki/Cross-entropy), performs [backpropagation](https://en.wikipedia.org/wiki/Backpropagation), and the optimiser step.\n",
    "\n",
    "__evaluate__: Handles evaluating the performance of the model. It loops through batches of the validation or testing data and feeds them into the model where the predicted labels are returned. These predictions are then checked against the true labels and the loss and accuracy are computed.\n",
    "\n",
    "__predict__: Calculates the predict label and the probability of it being that label for any supplied review text."
   ]
  },
  {
   "cell_type": "code",
   "execution_count": 10,
   "id": "8b86530b",
   "metadata": {},
   "outputs": [],
   "source": [
    "# Define the convolutional neural network\n",
    "class CNN(nn.Module):\n",
    "\n",
    "    # Define the function for initliasing the CNN model\n",
    "    def __init__(\n",
    "        self,\n",
    "        embedding_dim, # The size of each embedding vector\n",
    "        filters, # Number of filters\n",
    "        filter_size, # The size of the filters\n",
    "        max_tokens, # Max tokens\n",
    "        num_embeddings, # Size of the dictionary of embeddings\n",
    "        output_dim, # No. of unique labels\n",
    "        pad_index, # The index of the pad, which will get defaulted to all zeros\n",
    "        device # Run on the CPU or GPU\n",
    "    ):\n",
    "        super().__init__()\n",
    "     \n",
    "        # Store for later use\n",
    "        self.vocab = vocab\n",
    "        self.device = device\n",
    "     \n",
    "        # Lookup table that stores embeddings\n",
    "        num_embeddings = len(vocab)\n",
    "        self.embedding = nn.Embedding(num_embeddings, embedding_dim, padding_idx=pad_index)\n",
    "        \n",
    "        # Convolution layers\n",
    "        # Embedding vector size, Number of filters, Filter/Kernel size\n",
    "        self.conv1 = nn.Conv1d(embedding_dim, filters, filter_size[0], padding='same')\n",
    "        self.conv2 = nn.Conv1d(embedding_dim, filters, filter_size[1], padding='same')\n",
    "\n",
    "        # Linear layer\n",
    "        # No. of convolution layers * Earlier output channels, No. of unique labels\n",
    "        self.fc1 = nn.Linear(2 * filters, output_dim)\n",
    "\n",
    "        # Define the loss function and optimiser\n",
    "        # Cross-entropy loss and Adaptive Moment Estimation\n",
    "        self.criterion = nn.CrossEntropyLoss().to(self.device)\n",
    "        self.optimizer = optim.Adam(self.parameters())\n",
    "    \n",
    "    # Define the function to return the total model parameters\n",
    "    def total_parameters(self):\n",
    "    \n",
    "        # Compute the total number of parameters\n",
    "        return sum(p.numel() for p in self.parameters() if p.requires_grad)\n",
    "        \n",
    "    # Define the function to process a pass through the CNN\n",
    "    def forward(self, tokens):\n",
    "\n",
    "        # Tokens\n",
    "        # Size: [Batch size, Max tokens]\n",
    "        # Example: [512, 256]\n",
    "\n",
    "        # Token embeddings\n",
    "        # Size: [Batch size, Max tokens, Embedding vector size]\n",
    "        # Example: [512, 256, 300]\n",
    "        embedded = self.embedding(tokens)\n",
    "\n",
    "        # Re-arrange the token embeddings\n",
    "        # Size: [Batch size, Embedding vector size, Max tokens]\n",
    "        # Example: [512, 300, 256]\n",
    "        embedded = embedded.permute(0, 2, 1)\n",
    "\n",
    "        # First convolutional layer plus ReLU activation\n",
    "        # Size: [Batch size, Output channels, Max tokens - Filter size + 1]\n",
    "        # Example: [512, 100, 254]\n",
    "        conved1 = torch.relu(self.conv1(embedded))\n",
    "\n",
    "        # Second convolutional layer plus ReLU activation\n",
    "        # Size: [Batch size, Output channels, Max tokens - Filter size + 1]\n",
    "        # Example: [512, 100, 254]\n",
    "        conved2 = torch.relu(self.conv2(embedded))    \n",
    "\n",
    "        # First max pool layer\n",
    "        # Size: [Batch size, Output channels]\n",
    "        # Example: [512, 100]\n",
    "        pooled1 = conved1.max(dim=-1).values\n",
    "\n",
    "        # Second max pool layer\n",
    "        # Size: [Batch size, Output channels]\n",
    "        # Example: [512, 100]\n",
    "        pooled2 = conved1.max(dim=-1).values\n",
    "        \n",
    "        # Concatenate the tensors returned by the pooled layers\n",
    "        # Size: [Batch size, 2*Output channels]\n",
    "        # Example: [512, 200]\n",
    "        cat = torch.cat([pooled1, pooled2], dim=-1)\n",
    "\n",
    "        # Linear layer\n",
    "        # Size: [Batch size, No. of unique labels]\n",
    "        # Example: [512, 2]\n",
    "        prediction = self.fc1(cat)      \n",
    "        return prediction\n",
    "\n",
    "    # Define the function to train the model\n",
    "    def train(self, train_loader):\n",
    "    \n",
    "        # Loop through every batch in the training data\n",
    "        running_loss = 0.0\n",
    "        running_accuracy = 0.0\n",
    "        for batch in train_loader:\n",
    "    \n",
    "            # Send the data to the GPU\n",
    "            tokens, labels = batch['tokens'].to(self.device), batch['label'].to(self.device)\n",
    "    \n",
    "            # Zero the parameter gradients\n",
    "            self.optimizer.zero_grad()\n",
    "    \n",
    "            # Forward + backward + optimize\n",
    "            predictions = self(tokens)\n",
    "            loss = self.criterion(predictions, labels)\n",
    "            loss.backward()\n",
    "            self.optimizer.step()\n",
    "    \n",
    "            # Calculate the running loss and accuracy\n",
    "            running_loss += loss.item()\n",
    "            running_accuracy += get_accuracy(predictions, labels).item()\n",
    "            \n",
    "        return (running_loss / len(train_loader), \n",
    "               running_accuracy / len(train_loader))\n",
    "\n",
    "    # Define the function to evaluate the model\n",
    "    def evaluate(self, test_loader):\n",
    "    \n",
    "        # Loop through every batch in the test data\n",
    "        running_loss = 0.0\n",
    "        running_accuracy = 0.0\n",
    "        with torch.no_grad():\n",
    "            for batch in test_loader:\n",
    "    \n",
    "                # Send the data to the GPU\n",
    "                tokens, labels = batch['tokens'].to(self.device), batch['label'].to(self.device)\n",
    "    \n",
    "                # Evaluate the predicted label\n",
    "                predictions = self(tokens)\n",
    "                loss = self.criterion(predictions, labels)\n",
    "        \n",
    "                # Calculate the running loss and accuracy\n",
    "                running_loss += loss.item()\n",
    "                running_accuracy += get_accuracy(predictions, labels).item()\n",
    "    \n",
    "        return (running_loss / len(test_loader), \n",
    "               running_accuracy / len(test_loader))\n",
    "\n",
    "    # Define the function to produce a prediction\n",
    "    def predict(self, text):\n",
    "    \n",
    "        # Form the text like a data row\n",
    "        text = {'text': text}\n",
    "    \n",
    "        # Apply preprocessing, tokenize, and numericalise the text\n",
    "        text = preprocessing_text(text)\n",
    "        tokens = tokenize(text, max_tokens)['tokens']\n",
    "        ids = self.vocab.lookup_indices(tokens)\n",
    "        \n",
    "        # Create the tensor\n",
    "        tensor = torch.tensor(ids, dtype=torch.int64, device=self.device).unsqueeze(dim=0)\n",
    "    \n",
    "        # Get the prediction from the model\n",
    "        prediction = self(tensor).squeeze(dim=0)\n",
    "        predicted_class = prediction.argmax(dim=-1).item()\n",
    "    \n",
    "        # Get the probability of the classification\n",
    "        probabilities = torch.softmax(prediction, dim=-1)\n",
    "        predicted_probability = probabilities[predicted_class].item()\n",
    "        return(predicted_class, predicted_probability)"
   ]
  },
  {
   "cell_type": "markdown",
   "id": "4b0f3d37-1274-41ac-9ae9-6947aeb5f0a9",
   "metadata": {},
   "source": [
    "A helper function that initiliases the model and sets the embedding weights with pretrained weights from [GloVe](https://nlp.stanford.edu/projects/glove/)."
   ]
  },
  {
   "cell_type": "code",
   "execution_count": 11,
   "id": "b9fec677",
   "metadata": {},
   "outputs": [],
   "source": [
    "# Define a function to initialise a model\n",
    "def create_cnn_model(filter_size, max_tokens, vocab, unique_labels, pad_index, device):\n",
    "\n",
    "    # Note: The embedding vector size has to remain at 300 in order to match \n",
    "    # that returned by GloVe. It can be changed if the usage of GloVe is removed.\n",
    "    \n",
    "    # Model inputs\n",
    "    embedding_dim = 300\n",
    "    filters = 100\n",
    "\n",
    "    # Initialise the model\n",
    "    model = CNN(\n",
    "        embedding_dim, # The size of each embedding vector\n",
    "        filters, # Number of filters  \n",
    "        filter_size, # The size of the filters\n",
    "        max_tokens, # Max tokens\n",
    "        vocab, # Size of the dictionary of embeddings\n",
    "        unique_labels, # No. of unique labels\n",
    "        pad_index, # The index of the pad, which will get defaulted to all zeros\n",
    "        device # Run on the CPU or GPU\n",
    "    )\n",
    "    \n",
    "    # Use starting weights from GloVe\n",
    "    # https://nlp.stanford.edu/projects/glove/\n",
    "    vectors = torchtext.vocab.GloVe(dim=embedding_dim)\n",
    "    model.embedding.weight.data = vectors.get_vecs_by_tokens(vocab.get_itos())\n",
    "    \n",
    "    # Move the model to the GPU\n",
    "    model = model.to(device)\n",
    "\n",
    "    return model"
   ]
  },
  {
   "cell_type": "code",
   "execution_count": 12,
   "id": "62efdd11-e1e2-43e8-b005-cbf82015a053",
   "metadata": {},
   "outputs": [],
   "source": [
    "# Define a function to compute the accuracy of the predictions\n",
    "def get_accuracy(prediction, label):\n",
    "    predicted_classes = prediction.argmax(dim=-1)\n",
    "    correct_predictions = predicted_classes.eq(label).sum()\n",
    "    accuracy = correct_predictions / len(prediction)\n",
    "    return accuracy"
   ]
  },
  {
   "cell_type": "markdown",
   "id": "c424d50f-faa3-4d8b-b41a-12f3fa74336b",
   "metadata": {},
   "source": [
    "## Training\n",
    "\n",
    "This is the primary training loop for the program. It will perform a loop depending on the number of required epochs. For each epoch, it will train the model over the entire dataset, evaluate its performance, and then store the performance metrics for later review. It will also store the model weightings for the best epoch measured against the cross entropy loss on the validation set."
   ]
  },
  {
   "cell_type": "code",
   "execution_count": 13,
   "id": "d036b96c",
   "metadata": {},
   "outputs": [
    {
     "name": "stdout",
     "output_type": "stream",
     "text": [
      "Epoch: 1 2 3 4 5 6 7 8 9 10 11 12 | Validation (Loss): 0.413981 | Training Time: 29.43s\n"
     ]
    }
   ],
   "source": [
    "# Results storage\n",
    "best_epoch = 0\n",
    "best_valid_loss = float('inf')\n",
    "results = {\n",
    "    'Epoch': [], \n",
    "    'Training (Loss)': [], 'Training (Accuracy)': [], \n",
    "    'Validation (Loss)': [], 'Validation (Accuracy)': []\n",
    "}\n",
    "\n",
    "# Create the model\n",
    "model = create_cnn_model(filter_size, max_tokens, vocab, unique_labels, pad_index, device)\n",
    "\n",
    "# Run the required number of epochs\n",
    "start = time.time()\n",
    "print('Epoch: ', end='')\n",
    "for epoch in range(1, epochs+1):\n",
    "\n",
    "    # Run the model\n",
    "    print(epoch, end=' ')\n",
    "    train_loss, train_acc = model.train(train_data_loader)\n",
    "    valid_loss, valid_acc = model.evaluate(valid_data_loader)\n",
    "\n",
    "    # Store the results of the run\n",
    "    results['Epoch'].append(epoch)\n",
    "    results['Training (Loss)'].append(train_loss)\n",
    "    results['Training (Accuracy)'].append(train_acc)\n",
    "    results['Validation (Loss)'].append(valid_loss)\n",
    "    results['Validation (Accuracy)'].append(valid_acc)\n",
    "\n",
    "    # Save the best set of weightings\n",
    "    if valid_loss < best_valid_loss:\n",
    "        torch.save(model.state_dict(), 'checkpoints/cnn_final.pt')\n",
    "        best_valid_loss = valid_loss\n",
    "        best_epoch = epoch\n",
    "\n",
    "# Print the training time\n",
    "end = time.time()\n",
    "print('| Validation (Loss):', str(np.round(best_valid_loss, 6)), end=' ')\n",
    "print('| Training Time:', str(np.round(end-start, 2))+'s')"
   ]
  },
  {
   "cell_type": "markdown",
   "id": "a57401d3-15a7-46bc-ab5a-e0e71e835747",
   "metadata": {},
   "source": [
    "## Results\n",
    "\n",
    "Once we're finished training the model, we can see our results and how they have changed with each epoch. If the data, model, and hyperparameters have remained unchanged. then we should see that the best epoch was 12 with a validation loss of only 0.413981."
   ]
  },
  {
   "cell_type": "code",
   "execution_count": 14,
   "id": "7fc41db6-575b-4e91-98dc-65377667b69d",
   "metadata": {},
   "outputs": [
    {
     "data": {
      "text/html": [
       "<style type=\"text/css\">\n",
       "</style>\n",
       "<table id=\"T_1ff5d\">\n",
       "  <thead>\n",
       "    <tr>\n",
       "      <th id=\"T_1ff5d_level0_col0\" class=\"col_heading level0 col0\" >Epoch</th>\n",
       "      <th id=\"T_1ff5d_level0_col1\" class=\"col_heading level0 col1\" >Training (Loss)</th>\n",
       "      <th id=\"T_1ff5d_level0_col2\" class=\"col_heading level0 col2\" >Training (Accuracy)</th>\n",
       "      <th id=\"T_1ff5d_level0_col3\" class=\"col_heading level0 col3\" >Validation (Loss)</th>\n",
       "      <th id=\"T_1ff5d_level0_col4\" class=\"col_heading level0 col4\" >Validation (Accuracy)</th>\n",
       "    </tr>\n",
       "  </thead>\n",
       "  <tbody>\n",
       "    <tr>\n",
       "      <td id=\"T_1ff5d_row0_col0\" class=\"data row0 col0\" >1</td>\n",
       "      <td id=\"T_1ff5d_row0_col1\" class=\"data row0 col1\" >0.667029</td>\n",
       "      <td id=\"T_1ff5d_row0_col2\" class=\"data row0 col2\" >0.597821</td>\n",
       "      <td id=\"T_1ff5d_row0_col3\" class=\"data row0 col3\" >0.631645</td>\n",
       "      <td id=\"T_1ff5d_row0_col4\" class=\"data row0 col4\" >0.652273</td>\n",
       "    </tr>\n",
       "    <tr>\n",
       "      <td id=\"T_1ff5d_row1_col0\" class=\"data row1 col0\" >2</td>\n",
       "      <td id=\"T_1ff5d_row1_col1\" class=\"data row1 col1\" >0.600010</td>\n",
       "      <td id=\"T_1ff5d_row1_col2\" class=\"data row1 col2\" >0.698303</td>\n",
       "      <td id=\"T_1ff5d_row1_col3\" class=\"data row1 col3\" >0.579495</td>\n",
       "      <td id=\"T_1ff5d_row1_col4\" class=\"data row1 col4\" >0.686253</td>\n",
       "    </tr>\n",
       "    <tr>\n",
       "      <td id=\"T_1ff5d_row2_col0\" class=\"data row2 col0\" >3</td>\n",
       "      <td id=\"T_1ff5d_row2_col1\" class=\"data row2 col1\" >0.537166</td>\n",
       "      <td id=\"T_1ff5d_row2_col2\" class=\"data row2 col2\" >0.738182</td>\n",
       "      <td id=\"T_1ff5d_row2_col3\" class=\"data row2 col3\" >0.522695</td>\n",
       "      <td id=\"T_1ff5d_row2_col4\" class=\"data row2 col4\" >0.727582</td>\n",
       "    </tr>\n",
       "    <tr>\n",
       "      <td id=\"T_1ff5d_row3_col0\" class=\"data row3 col0\" >4</td>\n",
       "      <td id=\"T_1ff5d_row3_col1\" class=\"data row3 col1\" >0.478205</td>\n",
       "      <td id=\"T_1ff5d_row3_col2\" class=\"data row3 col2\" >0.760692</td>\n",
       "      <td id=\"T_1ff5d_row3_col3\" class=\"data row3 col3\" >0.486385</td>\n",
       "      <td id=\"T_1ff5d_row3_col4\" class=\"data row3 col4\" >0.747202</td>\n",
       "    </tr>\n",
       "    <tr>\n",
       "      <td id=\"T_1ff5d_row4_col0\" class=\"data row4 col0\" >5</td>\n",
       "      <td id=\"T_1ff5d_row4_col1\" class=\"data row4 col1\" >0.435477</td>\n",
       "      <td id=\"T_1ff5d_row4_col2\" class=\"data row4 col2\" >0.779018</td>\n",
       "      <td id=\"T_1ff5d_row4_col3\" class=\"data row4 col3\" >0.463346</td>\n",
       "      <td id=\"T_1ff5d_row4_col4\" class=\"data row4 col4\" >0.757731</td>\n",
       "    </tr>\n",
       "    <tr>\n",
       "      <td id=\"T_1ff5d_row5_col0\" class=\"data row5 col0\" >6</td>\n",
       "      <td id=\"T_1ff5d_row5_col1\" class=\"data row5 col1\" >0.401504</td>\n",
       "      <td id=\"T_1ff5d_row5_col2\" class=\"data row5 col2\" >0.801007</td>\n",
       "      <td id=\"T_1ff5d_row5_col3\" class=\"data row5 col3\" >0.443551</td>\n",
       "      <td id=\"T_1ff5d_row5_col4\" class=\"data row5 col4\" >0.766771</td>\n",
       "    </tr>\n",
       "    <tr>\n",
       "      <td id=\"T_1ff5d_row6_col0\" class=\"data row6 col0\" >7</td>\n",
       "      <td id=\"T_1ff5d_row6_col1\" class=\"data row6 col1\" >0.373551</td>\n",
       "      <td id=\"T_1ff5d_row6_col2\" class=\"data row6 col2\" >0.815573</td>\n",
       "      <td id=\"T_1ff5d_row6_col3\" class=\"data row6 col3\" >0.437441</td>\n",
       "      <td id=\"T_1ff5d_row6_col4\" class=\"data row6 col4\" >0.761838</td>\n",
       "    </tr>\n",
       "    <tr>\n",
       "      <td id=\"T_1ff5d_row7_col0\" class=\"data row7 col0\" >8</td>\n",
       "      <td id=\"T_1ff5d_row7_col1\" class=\"data row7 col1\" >0.346834</td>\n",
       "      <td id=\"T_1ff5d_row7_col2\" class=\"data row7 col2\" >0.826910</td>\n",
       "      <td id=\"T_1ff5d_row7_col3\" class=\"data row7 col3\" >0.435137</td>\n",
       "      <td id=\"T_1ff5d_row7_col4\" class=\"data row7 col4\" >0.780356</td>\n",
       "    </tr>\n",
       "    <tr>\n",
       "      <td id=\"T_1ff5d_row8_col0\" class=\"data row8 col0\" >9</td>\n",
       "      <td id=\"T_1ff5d_row8_col1\" class=\"data row8 col1\" >0.324945</td>\n",
       "      <td id=\"T_1ff5d_row8_col2\" class=\"data row8 col2\" >0.837878</td>\n",
       "      <td id=\"T_1ff5d_row8_col3\" class=\"data row8 col3\" >0.421277</td>\n",
       "      <td id=\"T_1ff5d_row8_col4\" class=\"data row8 col4\" >0.781458</td>\n",
       "    </tr>\n",
       "    <tr>\n",
       "      <td id=\"T_1ff5d_row9_col0\" class=\"data row9 col0\" >10</td>\n",
       "      <td id=\"T_1ff5d_row9_col1\" class=\"data row9 col1\" >0.301875</td>\n",
       "      <td id=\"T_1ff5d_row9_col2\" class=\"data row9 col2\" >0.850175</td>\n",
       "      <td id=\"T_1ff5d_row9_col3\" class=\"data row9 col3\" >0.420348</td>\n",
       "      <td id=\"T_1ff5d_row9_col4\" class=\"data row9 col4\" >0.772831</td>\n",
       "    </tr>\n",
       "    <tr>\n",
       "      <td id=\"T_1ff5d_row10_col0\" class=\"data row10 col0\" >11</td>\n",
       "      <td id=\"T_1ff5d_row10_col1\" class=\"data row10 col1\" >0.285977</td>\n",
       "      <td id=\"T_1ff5d_row10_col2\" class=\"data row10 col2\" >0.860814</td>\n",
       "      <td id=\"T_1ff5d_row10_col3\" class=\"data row10 col3\" >0.418654</td>\n",
       "      <td id=\"T_1ff5d_row10_col4\" class=\"data row10 col4\" >0.774296</td>\n",
       "    </tr>\n",
       "    <tr>\n",
       "      <td id=\"T_1ff5d_row11_col0\" class=\"data row11 col0\" >12</td>\n",
       "      <td id=\"T_1ff5d_row11_col1\" class=\"data row11 col1\" >0.263356</td>\n",
       "      <td id=\"T_1ff5d_row11_col2\" class=\"data row11 col2\" >0.871315</td>\n",
       "      <td id=\"T_1ff5d_row11_col3\" class=\"data row11 col3\" >0.413981</td>\n",
       "      <td id=\"T_1ff5d_row11_col4\" class=\"data row11 col4\" >0.789345</td>\n",
       "    </tr>\n",
       "  </tbody>\n",
       "</table>\n"
      ],
      "text/plain": [
       "<pandas.io.formats.style.Styler at 0x1511701a630>"
      ]
     },
     "execution_count": 14,
     "metadata": {},
     "output_type": "execute_result"
    }
   ],
   "source": [
    "# Convert to data frame and then output the results\n",
    "results_df = pd.DataFrame(results)\n",
    "results_df.to_csv('results/final_results.csv', index=False)\n",
    "results_df.style.hide()"
   ]
  },
  {
   "cell_type": "markdown",
   "id": "5c8aef90-205a-4531-988a-9f32033fae1f",
   "metadata": {},
   "source": [
    "We can also view the same results in chart form."
   ]
  },
  {
   "cell_type": "code",
   "execution_count": 15,
   "id": "0c909387-c7bb-464c-b4b5-fb1343aee548",
   "metadata": {},
   "outputs": [
    {
     "data": {
      "image/png": "[encoded data removed]",
      "text/plain": [
       "<Figure size 1000x400 with 2 Axes>"
      ]
     },
     "metadata": {},
     "output_type": "display_data"
    }
   ],
   "source": [
    "# Define the chart layout\n",
    "fig, axs = plt.subplots(ncols=2, nrows=1, figsize=(10, 1*4), layout='constrained')\n",
    "\n",
    "# Draw the loss chart\n",
    "ax = axs[0]\n",
    "ax.plot(results_df['Epoch'], results_df['Training (Loss)'], label='Training')\n",
    "ax.plot(results_df['Epoch'], results_df['Validation (Loss)'], label='Validation')\n",
    "ax.set_ylabel('Loss')\n",
    "ax.set_xlabel('Epoch')\n",
    "ax.set_xlim(1, np.max(results_df['Epoch']))\n",
    "ax.set_ylim(0, 1)\n",
    "ax.set_xticks(results_df['Epoch'])\n",
    "ax.set_title('Loss Score by Epoch')\n",
    "ax.legend()\n",
    "\n",
    "# Draw the accuracy chart\n",
    "ax = axs[1]\n",
    "ax.plot(results_df['Epoch'], results_df['Training (Accuracy)'], label='Training')\n",
    "ax.plot(results_df['Epoch'], results_df['Validation (Accuracy)'], label='Validation')\n",
    "ax.set_ylabel('Loss')\n",
    "ax.set_xlabel('Epoch')\n",
    "ax.set_xlim(1, np.max(results_df['Epoch']))\n",
    "ax.set_ylim(0, 1)\n",
    "ax.set_xticks(results_df['Epoch'])\n",
    "ax.set_title('Accuracy Score by Epoch')\n",
    "ax.legend()\n",
    "\n",
    "plt.show()"
   ]
  },
  {
   "cell_type": "markdown",
   "id": "3d990347-18b5-4161-854a-17139e3b6e45",
   "metadata": {},
   "source": [
    "Now that we have the best version of the model, we load the weightings from the selected epoch calculate our loss and accuracy against the testing dataset. In the end, we managed 0.7924 or 79.24% accuracy, which seems reasonable for 10,000 rows."
   ]
  },
  {
   "cell_type": "code",
   "execution_count": 16,
   "id": "afe59641",
   "metadata": {},
   "outputs": [
    {
     "data": {
      "text/html": [
       "<style type=\"text/css\">\n",
       "</style>\n",
       "<table id=\"T_6db17\">\n",
       "  <thead>\n",
       "    <tr>\n",
       "      <th id=\"T_6db17_level0_col0\" class=\"col_heading level0 col0\" >Epoch</th>\n",
       "      <th id=\"T_6db17_level0_col1\" class=\"col_heading level0 col1\" >Training (Loss)</th>\n",
       "      <th id=\"T_6db17_level0_col2\" class=\"col_heading level0 col2\" >Training (Accuracy)</th>\n",
       "      <th id=\"T_6db17_level0_col3\" class=\"col_heading level0 col3\" >Validation (Loss)</th>\n",
       "      <th id=\"T_6db17_level0_col4\" class=\"col_heading level0 col4\" >Validation (Accuracy)</th>\n",
       "      <th id=\"T_6db17_level0_col5\" class=\"col_heading level0 col5\" >Testing (Loss)</th>\n",
       "      <th id=\"T_6db17_level0_col6\" class=\"col_heading level0 col6\" >Testing (Accuracy):</th>\n",
       "    </tr>\n",
       "  </thead>\n",
       "  <tbody>\n",
       "    <tr>\n",
       "      <td id=\"T_6db17_row0_col0\" class=\"data row0 col0\" >12</td>\n",
       "      <td id=\"T_6db17_row0_col1\" class=\"data row0 col1\" >0.263356</td>\n",
       "      <td id=\"T_6db17_row0_col2\" class=\"data row0 col2\" >0.871315</td>\n",
       "      <td id=\"T_6db17_row0_col3\" class=\"data row0 col3\" >0.413981</td>\n",
       "      <td id=\"T_6db17_row0_col4\" class=\"data row0 col4\" >0.789345</td>\n",
       "      <td id=\"T_6db17_row0_col5\" class=\"data row0 col5\" >0.430199</td>\n",
       "      <td id=\"T_6db17_row0_col6\" class=\"data row0 col6\" >0.792425</td>\n",
       "    </tr>\n",
       "  </tbody>\n",
       "</table>\n"
      ],
      "text/plain": [
       "<pandas.io.formats.style.Styler at 0x15127e80c20>"
      ]
     },
     "execution_count": 16,
     "metadata": {},
     "output_type": "execute_result"
    }
   ],
   "source": [
    "# Load the best set of weighting\n",
    "model.load_state_dict(torch.load('checkpoints/cnn_final.pt'))\n",
    "\n",
    "# Display the metrics on the testing set\n",
    "test_loss, test_acc = model.evaluate(test_data_loader)\n",
    "final_results_df = results_df.sort_values('Validation (Loss)').head(1)\n",
    "final_results_df['Testing (Loss)'] = np.round(test_loss, 6)\n",
    "final_results_df['Testing (Accuracy):'] = np.round(test_acc, 6)\n",
    "final_results_df.style.hide()"
   ]
  },
  {
   "cell_type": "markdown",
   "id": "e9dd463c-c371-4398-9191-7efa5a67f672",
   "metadata": {},
   "source": [
    "## Predictions\n",
    "\n",
    "Finally, now we have our trained model, we can use it perform predictions on sample Steam reviews. Here we can see a sample positive and negative review being correctly classified by the model. The model could now be applied to video game feedback that lacks a clear classification, such as forum posts."
   ]
  },
  {
   "cell_type": "code",
   "execution_count": 17,
   "id": "6ed71a3b-a928-4ef9-adc2-9c5788929932",
   "metadata": {},
   "outputs": [
    {
     "name": "stdout",
     "output_type": "stream",
     "text": [
      "Review: Shogun 2 might represent the absolute peak of modern Total War. Highly recommended. \n",
      "Prediction: Positive | Probability: 0.9617\n"
     ]
    }
   ],
   "source": [
    "# Positive review sample\n",
    "review_text = 'Shogun 2 might represent the absolute peak of modern Total War. Highly recommended.'\n",
    "prediction = model.predict(review_text)\n",
    "print('Review:', review_text, '\\nPrediction:', 'Positive' if prediction[0]==1 else 'Negative', '| Probability:', np.round(prediction[1], 4))"
   ]
  },
  {
   "cell_type": "code",
   "execution_count": 18,
   "id": "23addaf5-a828-41ec-94dc-65ae2b7c3b38",
   "metadata": {},
   "outputs": [
    {
     "name": "stdout",
     "output_type": "stream",
     "text": [
      "Review: Rome wasn't patched in a day. \n",
      "Prediction: Negative | Probability: 0.9846\n"
     ]
    }
   ],
   "source": [
    "# Negative review sample\n",
    "review_text = 'Rome wasn\\'t patched in a day.'\n",
    "prediction = model.predict(review_text)\n",
    "print('Review:', review_text, '\\nPrediction:', 'Positive' if prediction[0]==1 else 'Negative', '| Probability:', np.round(prediction[1], 4))"
   ]
  }
 ],
 "metadata": {
  "kernelspec": {
   "display_name": "Python 3 (ipykernel)",
   "language": "python",
   "name": "python3"
  },
  "language_info": {
   "codemirror_mode": {
    "name": "ipython",
    "version": 3
   },
   "file_extension": ".py",
   "mimetype": "text/x-python",
   "name": "python",
   "nbconvert_exporter": "python",
   "pygments_lexer": "ipython3",
   "version": "3.12.4"
  }
 },
 "nbformat": 4,
 "nbformat_minor": 5
}
